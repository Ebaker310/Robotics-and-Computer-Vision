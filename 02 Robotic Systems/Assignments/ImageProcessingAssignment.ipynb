{
  "nbformat": 4,
  "nbformat_minor": 0,
  "metadata": {
    "kernelspec": {
      "display_name": "Python 3",
      "language": "python",
      "name": "python3"
    },
    "language_info": {
      "codemirror_mode": {
        "name": "ipython",
        "version": 3
      },
      "file_extension": ".py",
      "mimetype": "text/x-python",
      "name": "python",
      "nbconvert_exporter": "python",
      "pygments_lexer": "ipython3",
      "version": "3.6.6"
    },
    "colab": {
      "name": "ImageProcessingAssignment.ipynb",
      "provenance": [],
      "collapsed_sections": []
    }
  },
  "cells": [
    {
      "cell_type": "markdown",
      "metadata": {
        "id": "uz7J5cdLviaP",
        "colab_type": "text"
      },
      "source": [
        "# Image Processing Assignment\n",
        "\n",
        "Implement the basic image processing methods we've discussed in class: convolution/correlation, color histogram analysis, Canny edge detection.\n"
      ]
    },
    {
      "cell_type": "code",
      "metadata": {
        "id": "iYnrQF3oviaS",
        "colab_type": "code",
        "colab": {}
      },
      "source": [
        "# Load the Drive helper and mount\n",
        "from google.colab import drive\n",
        "\n",
        "# This will prompt for authorization.\n",
        "drive.mount('/content/drive/')"
      ],
      "execution_count": null,
      "outputs": []
    },
    {
      "cell_type": "code",
      "metadata": {
        "id": "WQ0G0Xn1yeo_",
        "colab_type": "code",
        "colab": {}
      },
      "source": [
        "# After executing the cell above, Drive\n",
        "# files will be present in \"/content/drive/My Drive\".\n",
        "!ls \"/content/drive/My Drive/Colab Notebooks\""
      ],
      "execution_count": null,
      "outputs": []
    },
    {
      "cell_type": "markdown",
      "metadata": {
        "id": "-g5MZWp587DA",
        "colab_type": "text"
      },
      "source": [
        "## 1D Convolution\n",
        "After loading the staircaase image included with scipy.misc\n",
        "1. Calculate the height and width of the staircase image and display the image\n",
        "2. Retrieve the first row of the image\n",
        "3. Create a numpy array with the finite difference filter [-1, 1]\n",
        "4. Apply the filter to one row of the image (no need to reverse it for convolution).  Please implement this yourself only using NumPy functions but not OpenCV or scipy\n",
        "5. Plot the intensity of the first row and the output of the finite difference filter on a graph (the x value should be the index and the y value the intensity) \n"
      ]
    },
    {
      "cell_type": "code",
      "metadata": {
        "id": "u1Bg8sYJS2D-",
        "colab_type": "code",
        "colab": {}
      },
      "source": [
        "#Required to use the imshow command within colab\n",
        "from google.colab.patches import cv2_imshow\n",
        "\n",
        "#Numpy, Matplotlib and OpenCV are required\n",
        "import cv2\n",
        "import matplotlib.pyplot as plt\n",
        "import numpy as np\n",
        "\n",
        "\n",
        "from scipy import misc\n",
        "#load the staircase image\n",
        "ascent=misc.ascent() \n",
        "\n",
        "cv2_imshow(ascent)\n",
        "#what are the dimensions of the image?\n",
        "\n",
        "\n",
        "#retrieve the first row\n",
        "\n",
        "\n",
        "\n",
        "#create the 1x2 finite difference filter\n",
        "\n",
        "#filter the row\n",
        "\n",
        "#plot the image intensity and the filter output using plt.plot\n",
        "\n",
        "\n",
        "\n"
      ],
      "execution_count": null,
      "outputs": []
    },
    {
      "cell_type": "markdown",
      "metadata": {
        "id": "LH_qjldd_T9w",
        "colab_type": "text"
      },
      "source": [
        "# 2D Linear Filters\n",
        "1. Create 3x3 numpy arrays for the linear filter to highlight vertical edges and horizontal edges (consult Lecture 5)\n",
        "2. Apply signal.convolve2d (see reference guide https://docs.scipy.org/doc/scipy/reference/generated/scipy.signal.convolve2d.html)\n",
        "3. Display the original image and the 2 filtered images"
      ]
    },
    {
      "cell_type": "code",
      "metadata": {
        "id": "pQ_DFW1ah4NP",
        "colab_type": "code",
        "colab": {}
      },
      "source": [
        "from scipy import signal\n",
        "from scipy import misc\n",
        "import matplotlib.pyplot as plt\n",
        "\n",
        "ascent=misc.ascent()\n",
        "\n",
        "\n",
        "#create the numpy filters\n",
        "\n",
        "\n",
        "#apply them using signal.convolve2d\n",
        "\n",
        "\n",
        "#display the original imaage and the filtered images\n",
        "\n",
        "\n",
        "\n"
      ],
      "execution_count": null,
      "outputs": []
    },
    {
      "cell_type": "markdown",
      "metadata": {
        "id": "uuWHMTTHA7TW",
        "colab_type": "text"
      },
      "source": [
        "## OpenCV Template Matching\n",
        "Evaluate the performance of 2 OpenCV template matching options (cv2.TM_COEFF and TM_CCORR) at finding Waldo.  You are allowed to use any OpenCV methods that you wish.\n",
        "https://docs.opencv.org/master/d4/dc6/tutorial_py_template_matching.html\n",
        "1. Load and display the puzzle image and the query image. Calculate the height and the width of the query image (Waldo).  \n",
        "2. Apply the template matching method and display the result.\n",
        "3. Find the location of the max value in the result.\n",
        "4. Make a copy of the puzzle image using copy() and draw a rectangle on the maximum location.  To size the rectangle, use the height and width of the Waldo query image. (the reason you are making a copy is to avoid drawing rectangles from both the methods on the same image).\n",
        "5. Display the image with the rectangle drawn.\n",
        "6. Repeat the procedure using the other method\n",
        "7. Report which method correctly finds Waldo.\n",
        "\n"
      ]
    },
    {
      "cell_type": "code",
      "metadata": {
        "id": "fSlBIidowBTO",
        "colab_type": "code",
        "colab": {}
      },
      "source": [
        "from matplotlib import pyplot as plt\n",
        "import numpy as np\n",
        "import cv2\n",
        "from google.colab.patches import cv2_imshow\n"
      ],
      "execution_count": null,
      "outputs": []
    },
    {
      "cell_type": "markdown",
      "metadata": {
        "id": "zFZe-iYeviaZ",
        "colab_type": "text"
      },
      "source": [
        "Load puzzle image and display it"
      ]
    },
    {
      "cell_type": "code",
      "metadata": {
        "id": "gsQVwJYOviab",
        "colab_type": "code",
        "colab": {}
      },
      "source": [
        "scene = cv2.imread(\"/content/drive/My Drive/Colab Notebooks/puzzle_1.jpg\")\n",
        "scene.shape\n",
        "cv2_imshow(scene)"
      ],
      "execution_count": null,
      "outputs": []
    },
    {
      "cell_type": "markdown",
      "metadata": {
        "id": "bv3pW2wgvian",
        "colab_type": "text"
      },
      "source": [
        "Load query image and display it"
      ]
    },
    {
      "cell_type": "code",
      "metadata": {
        "id": "e0ZW_FXUviap",
        "colab_type": "code",
        "colab": {}
      },
      "source": [
        "waldo = cv2.imread(\"/content/drive/My Drive/Colab Notebooks/query_1.jpg\")\n"
      ],
      "execution_count": null,
      "outputs": []
    },
    {
      "cell_type": "markdown",
      "metadata": {
        "id": "Awfkp9Mkviaz",
        "colab_type": "text"
      },
      "source": [
        "Get the dimensions of Waldo's image"
      ]
    },
    {
      "cell_type": "code",
      "metadata": {
        "id": "GLdiTx2jvia0",
        "colab_type": "code",
        "colab": {}
      },
      "source": [
        ""
      ],
      "execution_count": null,
      "outputs": []
    },
    {
      "cell_type": "markdown",
      "metadata": {
        "id": "IDsWiaY9via8",
        "colab_type": "text"
      },
      "source": [
        "Perform template matching using the matchTemplate function in openCV which slides template image over scene image and get scores for matches at each position\n",
        "\n",
        "Try using both cv2.TM_COEFF and TM_CCORR\n",
        "\n",
        "Report which one gets the correct answer."
      ]
    },
    {
      "cell_type": "markdown",
      "metadata": {
        "id": "Nq3LE6W6vibB",
        "colab_type": "text"
      },
      "source": [
        "Display the results using Matplotlib"
      ]
    },
    {
      "cell_type": "code",
      "metadata": {
        "id": "7gETv7JvvibE",
        "colab_type": "code",
        "colab": {}
      },
      "source": [
        "plt.imshow(result, cmap='gray')\n",
        "plt.axis('off')\n",
        "plt.show()"
      ],
      "execution_count": null,
      "outputs": []
    },
    {
      "cell_type": "markdown",
      "metadata": {
        "id": "0wKkLWOSvibM",
        "colab_type": "text"
      },
      "source": [
        "Find the highest score and print the location where it is located in the image"
      ]
    },
    {
      "cell_type": "code",
      "metadata": {
        "id": "6tl5Cbx5vibN",
        "colab_type": "code",
        "colab": {}
      },
      "source": [
        ""
      ],
      "execution_count": null,
      "outputs": []
    },
    {
      "cell_type": "markdown",
      "metadata": {
        "id": "jJKn6k3LvibQ",
        "colab_type": "text"
      },
      "source": [
        "Make a copy of puzzle image"
      ]
    },
    {
      "cell_type": "code",
      "metadata": {
        "id": "3Pu0QXChvibR",
        "colab_type": "code",
        "colab": {}
      },
      "source": [
        "copied_image = scene.copy()"
      ],
      "execution_count": null,
      "outputs": []
    },
    {
      "cell_type": "markdown",
      "metadata": {
        "id": "bRPNE51DvibV",
        "colab_type": "text"
      },
      "source": [
        "Draw rectangle on image where the best score is found using a color that the TA can see using cv2.rectangle and display the image"
      ]
    },
    {
      "cell_type": "code",
      "metadata": {
        "id": "3BY7BXKfvibX",
        "colab_type": "code",
        "colab": {}
      },
      "source": [
        ""
      ],
      "execution_count": null,
      "outputs": []
    },
    {
      "cell_type": "markdown",
      "metadata": {
        "id": "PGc3-J7rvibd",
        "colab_type": "text"
      },
      "source": [
        "Display image using OpenCV"
      ]
    },
    {
      "cell_type": "code",
      "metadata": {
        "id": "EfTg_U7avibd",
        "colab_type": "code",
        "colab": {}
      },
      "source": [
        "from google.colab.patches import cv2_imshow\n",
        "cv2_imshow(copied_image)\n"
      ],
      "execution_count": null,
      "outputs": []
    },
    {
      "cell_type": "markdown",
      "metadata": {
        "id": "CdyGF217E43X",
        "colab_type": "text"
      },
      "source": [
        "## Color Histograms\n",
        "\n",
        "1. Load the images of the parrot, group of parrots and the vacuum cleaner.\n",
        "2. Display the images.\n",
        "3. Calculate the color histogram of the images and normalize them. Please consult the OpenCV documentation for this: https://docs.opencv.org/3.4/d8/dbc/tutorial_histogram_calculation.html  Remember that by default openCV loads images using BGR convention.\n",
        "4. Plot the color histograms for the blue, green, and red values (preferably on the same axes using a bin size of 256)).  Do this for each of the three images.\n",
        "5. Recalculate the histograms using bin sizes of [8, 8, 8] for b,g,r and compare them using compareHist cv2.HISTCMP_INTERSECT (intersection).  Print the results of comparing the parrot image to itself, to the group of parrots and to the vacuum cleaner."
      ]
    },
    {
      "cell_type": "code",
      "metadata": {
        "id": "K_g-y2GLGmq-",
        "colab_type": "code",
        "colab": {}
      },
      "source": [
        "parrot = cv2.imread(\"/content/drive/My Drive/Colab Notebooks/single-parrot-small.png\")\n",
        "parrot_group = cv2.imread(\"/content/drive/My Drive/Colab Notebooks/group-parrot-small.png\")\n",
        "vacuum = cv2.imread(\"/content/drive/My Drive/Colab Notebooks/eureka-vacuum-small.png\")\n",
        "\n",
        "cv2_imshow(parrot)\n",
        "cv2_imshow(parrot_group)\n",
        "cv2_imshow(vacuum)\n",
        "\n",
        "\n",
        "\n",
        "\t"
      ],
      "execution_count": null,
      "outputs": []
    },
    {
      "cell_type": "markdown",
      "metadata": {
        "id": "nbqwvvgaMDND",
        "colab_type": "text"
      },
      "source": [
        "## Canny Edge Detection\n",
        "\n",
        "1. Convert the parrot image to grayscale\n",
        "2. Apply the Canny edge detection OpenCV function it with low threshold of 100 and high threshold of 200.\n",
        "3. Display the result."
      ]
    },
    {
      "cell_type": "code",
      "metadata": {
        "id": "JDmTayTHweEM",
        "colab_type": "code",
        "colab": {}
      },
      "source": [
        ""
      ],
      "execution_count": null,
      "outputs": []
    }
  ]
}